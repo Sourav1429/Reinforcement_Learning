{
 "cells": [
  {
   "cell_type": "code",
   "execution_count": 1,
   "metadata": {
    "id": "wK9Drx5lFBhd"
   },
   "outputs": [],
   "source": [
    "import gym\n",
    "import numpy as np\n",
    "import torch\n",
    "import torch.nn as nn\n",
    "import torch.optim as optim\n",
    "import torch.nn.functional as F\n",
    "from torch.autograd import Variable\n",
    "import matplotlib.pyplot as plt"
   ]
  },
  {
   "cell_type": "code",
   "execution_count": 2,
   "metadata": {
    "id": "xWIXRa2SL7XA"
   },
   "outputs": [],
   "source": [
    "class PolicyNetwork(nn.Module):\n",
    "  def __init__(self,num_actions,hidden_state,num_inputs,LR=1e-4):\n",
    "    super(PolicyNetwork,self).__init__()\n",
    "    self.num_actions=num_actions;\n",
    "    self.Linear1=nn.Linear(num_inputs,hidden_state);\n",
    "    self.Linear2=nn.Linear(hidden_state,num_actions);\n",
    "    #self.Linear3=nn.Linear(hidden_state2,num_actions);\n",
    "    self.optimizer=optim.Adam(self.parameters(),lr=LR);\n",
    "  \n",
    "  def forward(self,state):\n",
    "    x=F.relu(self.Linear1(state));\n",
    "    x=F.softmax(self.Linear2(x),dim=1);\n",
    "    return x;\n",
    "\n",
    "  def get_action(self,state):\n",
    "    state=torch.from_numpy(state).float().unsqueeze(0);\n",
    "    probs=self.forward(Variable(state));\n",
    "    highest_prob_action=np.random.choice(self.num_actions,p=np.squeeze(probs.detach().numpy()));\n",
    "    log_prob=torch.log(probs.squeeze(0)[highest_prob_action])\n",
    "    return highest_prob_action,log_prob;"
   ]
  },
  {
   "cell_type": "code",
   "execution_count": 3,
   "metadata": {
    "id": "BiEAom4WnksA"
   },
   "outputs": [],
   "source": [
    "def update_policy(pol_net,rewards,log_probs,GAMMA):\n",
    "  discounted_rewards=[];\n",
    "  for t in range(len(rewards)):\n",
    "    Gt=0;\n",
    "    pw=0;\n",
    "    for r in rewards[t:]:\n",
    "      Gt=Gt+GAMMA**pw*r;\n",
    "      pw+=1;\n",
    "    discounted_rewards.append(Gt);\n",
    "  discounted_rewards=torch.tensor(discounted_rewards);\n",
    "  #discounted_rewards=(discounted_rewards-discounted_rewards.mean())/(discounted_rewards.std()+1e-8);\n",
    "  policy_gradient=[];\n",
    "  for log_prob,Gt in zip(log_probs,discounted_rewards):\n",
    "    policy_gradient.append(-log_prob*Gt);\n",
    "  pol_net.optimizer.zero_grad();\n",
    "  policy_gradient=torch.stack(policy_gradient).sum();\n",
    "  policy_gradient.backward();\n",
    "  pol_net.optimizer.step();"
   ]
  },
  {
   "cell_type": "code",
   "execution_count": 8,
   "metadata": {
    "id": "hMsxGkQpX5--"
   },
   "outputs": [],
   "source": [
    "def reinforce(env):\n",
    "  GAMMA=0.5;\n",
    "  max_episodes=300;\n",
    "  length_of_episode=8000;\n",
    "  epsilon=1e-7;\n",
    "  rewards_per_episodes=[];\n",
    "  pol_net=PolicyNetwork(env.action_space.n,128,env.observation_space.shape[0]);\n",
    "  for episode in range(max_episodes):\n",
    "    state=env.reset();\n",
    "    rewards,log_probs=[],[];\n",
    "    for _ in range(length_of_episode):\n",
    "      #env.render()\n",
    "      action,log_prob=pol_net.get_action(state);\n",
    "      new_state,reward,done,_=env.step(action);\n",
    "      log_probs.append(log_prob);\n",
    "      rewards.append(reward);\n",
    "      state=new_state;\n",
    "      if done:\n",
    "        break;\n",
    "    update_policy(pol_net,rewards,log_probs,GAMMA);\n",
    "    rewards_per_episodes.append(sum(rewards));\n",
    "  rewards_per_episode=np.array(rewards_per_episodes);\n",
    "  plt.plot(np.cumsum(rewards_per_episode)/np.arange(1,len(rewards_per_episode)+1));\n",
    "  plt.xlabel('Episode');\n",
    "  plt.ylabel('Cumulative Rewards');\n",
    "  plt.show();"
   ]
  },
  {
   "cell_type": "code",
   "execution_count": 9,
   "metadata": {
    "colab": {
     "base_uri": "https://localhost:8080/",
     "height": 331
    },
    "id": "1FgsknZ_SDcW",
    "outputId": "a5d97227-287e-4104-9247-c348f11ca1ba"
   },
   "outputs": [
    {
     "data": {
      "image/png": "[encoded data removed]",
      "text/plain": [
       "<Figure size 432x288 with 1 Axes>"
      ]
     },
     "metadata": {
      "needs_background": "light"
     },
     "output_type": "display_data"
    },
    {
     "name": "stdout",
     "output_type": "stream",
     "text": [
      "Box([-1.2  -0.07], [0.6  0.07], (2,), float32)\n",
      "3\n"
     ]
    }
   ],
   "source": [
    "if __name__=='__main__':\n",
    "  env=gym.make('MountainCar-v0')\n",
    "  #env=gym.make('CartPole-v1')\n",
    "  reinforce(env);\n",
    "  print(env.observation_space)\n",
    "  print(env.action_space.n)"
   ]
  },
  {
   "cell_type": "code",
   "execution_count": null,
   "metadata": {
    "id": "-x_1nNClSmIC"
   },
   "outputs": [],
   "source": []
  }
 ],
 "metadata": {
  "colab": {
   "name": "Mountain_car_Reinforce.ipynb",
   "provenance": []
  },
  "kernelspec": {
   "display_name": "Python 3 (ipykernel)",
   "language": "python",
   "name": "python3"
  },
  "language_info": {
   "codemirror_mode": {
    "name": "ipython",
    "version": 3
   },
   "file_extension": ".py",
   "mimetype": "text/x-python",
   "name": "python",
   "nbconvert_exporter": "python",
   "pygments_lexer": "ipython3",
   "version": "3.9.7"
  }
 },
 "nbformat": 4,
 "nbformat_minor": 1
}
